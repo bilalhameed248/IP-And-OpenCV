{
 "cells": [
  {
   "cell_type": "code",
   "execution_count": 3,
   "id": "87379db7",
   "metadata": {},
   "outputs": [],
   "source": [
    "# Import libraries\n",
    "from PIL import Image\n",
    "import pytesseract\n",
    "import sys\n",
    "from pdf2image import convert_from_path\n",
    "import os"
   ]
  },
  {
   "cell_type": "code",
   "execution_count": 4,
   "id": "f66b9f6b",
   "metadata": {},
   "outputs": [],
   "source": [
    "# Path of the pdf\n",
    "PDF_file = \"file.pdf\""
   ]
  },
  {
   "cell_type": "code",
   "execution_count": 5,
   "id": "3f6c76f5",
   "metadata": {},
   "outputs": [],
   "source": [
    "'''\n",
    "Part #1 : Converting PDF to images\n",
    "'''\n",
    "# Store all the pages of the PDF in a variable\n",
    "pages = convert_from_path(PDF_file, 500)\n",
    "\n",
    "# Counter to store images of each page of PDF to image\n",
    "image_counter = 1\n",
    "\n",
    "# Iterate through all the pages stored above\n",
    "for page in pages:\n",
    "\n",
    "\t# Declaring filename for each page of PDF as JPG\n",
    "\t# For each page, filename will be:\n",
    "\t# PDF page 1 -> page_1.jpg\n",
    "\t# PDF page 2 -> page_2.jpg\n",
    "\t# PDF page 3 -> page_3.jpg\n",
    "\t# ....\n",
    "\t# PDF page n -> page_n.jpg\n",
    "\tfilename = \"page_\"+str(image_counter)+\".jpg\"\n",
    "\t\n",
    "\t# Save the image of the page in system\n",
    "\tpage.save(filename, 'JPEG')\n",
    "\n",
    "\t# Increment the counter to update filename\n",
    "\timage_counter = image_counter + 1"
   ]
  },
  {
   "cell_type": "code",
   "execution_count": 7,
   "id": "9700319a",
   "metadata": {},
   "outputs": [],
   "source": [
    "'''\n",
    "Part #2 - Recognizing text from the images using OCR\n",
    "'''\n",
    "\n",
    "# Variable to get count of total number of pages\n",
    "filelimit = image_counter-1\n",
    "\n",
    "# Creating a text file to write the output\n",
    "outfile = \"out_text.txt\"\n",
    "\n",
    "# Open the file in append mode so that\n",
    "# All contents of all images are added to the same file\n",
    "f = open(outfile, \"a\")\n",
    "\n",
    "# Iterate from 1 to total number of pages\n",
    "for i in range(1, filelimit + 1):\n",
    "\n",
    "\t# Set filename to recognize text from\n",
    "\t# Again, these files will be:\n",
    "\t# page_1.jpg\n",
    "\t# page_2.jpg\n",
    "\t# ....\n",
    "\t# page_n.jpg\n",
    "\tfilename = \"page_\"+str(i)+\".jpg\"\n",
    "\t\t\n",
    "\t# Recognize the text as string in image using pytesserct\n",
    "\ttext = str(((pytesseract.image_to_string(Image.open(filename)))))\n",
    "\n",
    "\t# The recognized text is stored in variable text\n",
    "\t# Any string processing may be applied on text\n",
    "\t# Here, basic formatting has been done:\n",
    "\t# In many PDFs, at line ending, if a word can't\n",
    "\t# be written fully, a 'hyphen' is added.\n",
    "\t# The rest of the word is written in the next line\n",
    "\t# Eg: This is a sample text this word here GeeksF-\n",
    "\t# orGeeks is half on first line, remaining on next.\n",
    "\t# To remove this, we replace every '-\\n' to ''.\n",
    "\ttext = text.replace('-\\n', '')\t\n",
    "\n",
    "\t# Finally, write the processed text to the file.\n",
    "\tf.write(text)\n",
    "\n",
    "# Close the file after writing all the text.\n",
    "f.close()\n"
   ]
  },
  {
   "cell_type": "code",
   "execution_count": null,
   "id": "1ccca277",
   "metadata": {},
   "outputs": [],
   "source": []
  }
 ],
 "metadata": {
  "kernelspec": {
   "display_name": "Python 3 (ipykernel)",
   "language": "python",
   "name": "python3"
  },
  "language_info": {
   "codemirror_mode": {
    "name": "ipython",
    "version": 3
   },
   "file_extension": ".py",
   "mimetype": "text/x-python",
   "name": "python",
   "nbconvert_exporter": "python",
   "pygments_lexer": "ipython3",
   "version": "3.8.12"
  }
 },
 "nbformat": 4,
 "nbformat_minor": 5
}
